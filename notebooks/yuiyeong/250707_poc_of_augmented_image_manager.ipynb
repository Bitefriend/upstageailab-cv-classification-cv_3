{
 "cells": [
  {
   "cell_type": "markdown",
   "id": "c86372f1b965adb5",
   "metadata": {},
   "source": "# Notebook 기본 세팅"
  },
  {
   "cell_type": "code",
   "execution_count": 1,
   "id": "3bbee03e090649db",
   "metadata": {
    "ExecuteTime": {
     "end_time": "2025-07-07T04:37:03.509784Z",
     "start_time": "2025-07-07T04:37:03.504597Z"
    }
   },
   "outputs": [],
   "source": [
    "# Constant 선언\n",
    "\n",
    "# 프로젝트 루트 디렉토리를 식별하기 위한 마커 파일 이름\n",
    "ROOT_MARKER = \"pyproject.toml\"\n",
    "\n",
    "# 한글 표시를 위한 나눔바른고딕 폰트 파일 이름\n",
    "# matplotlib 의 font_manager 에 실제 폰트 파일의 위치를 넣어주어야 한다.\n",
    "KOREAN_FONT_FILE = \"NanumBarunGothic.ttf\"\n",
    "\n",
    "# matplotlib 에서는 font-family 의 이름으로 font 를 설정한다.\n",
    "# 그래서 font 파일 그 자체가 아니라, 그 파일의 family 이름을 적어준다.\n",
    "KOREAN_FONT_FAMILY = \"NanumBarunGothic\"\n",
    "\n",
    "# 참고\n",
    "# Font Family 와 Font File 의 차이는,\n",
    "# Font Family 는 비슷한 디자인 특성을 공유하는 글꼴 그룹을 의미한다.\n",
    "#\n",
    "# 예를 들어 '나눔바른고딕' 폰트 패밀리는 일반(Regular), 굵게(Bold), 기울임(Italic) 등 여러 스타일을 포함할 수 있다.\n",
    "# 반면, 폰트 파일(.ttf, .otf 등)은 이러한 폰트의 하나의 스타일이 저장된 실제 파일이다.\n",
    "#\n",
    "# 이 프로젝트에서는 폰트 용량을 줄이기 위해 일반(Regular) 인 NanumBarunGothic.ttf 만 사용한다."
   ]
  },
  {
   "cell_type": "code",
   "execution_count": 2,
   "id": "93f2746669fe3b0b",
   "metadata": {
    "ExecuteTime": {
     "end_time": "2025-07-07T04:37:03.576354Z",
     "start_time": "2025-07-07T04:37:03.574118Z"
    }
   },
   "outputs": [],
   "source": [
    "# 프로젝트 root 를 sys.path 에 추가해서 import 구문을 사용하기 쉽게\n",
    "from pathlib import Path\n",
    "\n",
    "\n",
    "def find_project_root() -> Path:\n",
    "    \"\"\"\n",
    "    pyproject.toml 파일을 기준으로 루트 디렉토리를 찾는다.\n",
    "    :return: Path: 프로젝트 루트 디렉토리 경로\n",
    "    \"\"\"\n",
    "\n",
    "    current_path = Path().resolve()\n",
    "\n",
    "    while current_path != current_path.parent:\n",
    "        if (current_path / ROOT_MARKER).exists():\n",
    "            return current_path\n",
    "\n",
    "        current_path = current_path.parent\n",
    "\n",
    "    raise FileNotFoundError(\"프로젝트 루트 디렉토리를 찾을 수 없습니다.\")\n",
    "\n",
    "\n",
    "ROOT_DIR = find_project_root()\n",
    "DATA_DIR = ROOT_DIR / \"data\""
   ]
  },
  {
   "cell_type": "code",
   "execution_count": 3,
   "id": "9b2102dd84f4bdc1",
   "metadata": {
    "ExecuteTime": {
     "end_time": "2025-07-07T04:37:03.806106Z",
     "start_time": "2025-07-07T04:37:03.581163Z"
    }
   },
   "outputs": [],
   "source": [
    "# matplotlib 의 한글 font 설정\n",
    "import matplotlib.font_manager as fm\n",
    "import matplotlib.pyplot as plt\n",
    "\n",
    "\n",
    "FONTS_DATA_DIR = DATA_DIR / \"fonts\"\n",
    "\n",
    "\n",
    "def setup_korean_font():\n",
    "    font_path = FONTS_DATA_DIR / KOREAN_FONT_FILE\n",
    "    fm.fontManager.addfont(font_path)\n",
    "\n",
    "    # 폰트 설정\n",
    "    plt.rcParams[\"font.family\"] = KOREAN_FONT_FAMILY\n",
    "    plt.rcParams[\"axes.unicode_minus\"] = False\n",
    "\n",
    "\n",
    "setup_korean_font()"
   ]
  },
  {
   "cell_type": "markdown",
   "id": "bac8d04607dc6327",
   "metadata": {},
   "source": "# AugmentedImageManager 사용해보기"
  },
  {
   "cell_type": "code",
   "execution_count": 4,
   "id": "135a7c6f3a7571cd",
   "metadata": {
    "ExecuteTime": {
     "end_time": "2025-07-07T04:37:05.972910Z",
     "start_time": "2025-07-07T04:37:03.811386Z"
    }
   },
   "outputs": [],
   "source": [
    "from src.libs.storage import AugmentedImageManager\n",
    "\n",
    "\n",
    "augmented_image_manager = AugmentedImageManager.create()"
   ]
  },
  {
   "cell_type": "code",
   "execution_count": 5,
   "id": "db8f0301d9949eaa",
   "metadata": {
    "ExecuteTime": {
     "end_time": "2025-07-07T04:37:11.054968Z",
     "start_time": "2025-07-07T04:37:05.978846Z"
    }
   },
   "outputs": [
    {
     "name": "stderr",
     "output_type": "stream",
     "text": [
      "[2025-07-07 13:37:05] INFO [augmented_image_manager.upload] Compressing /Users/joyuiyeong/projects/upstageailab-cv-classification-cv_3/data/raw/train...\n",
      "[2025-07-07 13:37:08] INFO [augmented_image_manager.upload] Uploading to augmented_images/20250707133705_augmented.tar.gz...\n",
      "[2025-07-07 13:37:11] INFO [augmented_image_manager.upload] Successfully uploaded 123,579,109 bytes\n"
     ]
    }
   ],
   "source": [
    "from src import config\n",
    "\n",
    "\n",
    "result = augmented_image_manager.upload(config.TRAIN_IMG_DIR)"
   ]
  },
  {
   "cell_type": "code",
   "execution_count": 6,
   "id": "1b8ee78c5e8bf705",
   "metadata": {
    "ExecuteTime": {
     "end_time": "2025-07-07T04:37:11.080667Z",
     "start_time": "2025-07-07T04:37:11.076175Z"
    }
   },
   "outputs": [
    {
     "data": {
      "text/plain": [
       "'augmented_images/20250707133705_augmented.tar.gz'"
      ]
     },
     "execution_count": 6,
     "metadata": {},
     "output_type": "execute_result"
    }
   ],
   "source": [
    "result"
   ]
  },
  {
   "cell_type": "code",
   "execution_count": 7,
   "id": "8b2518232868ee30",
   "metadata": {
    "ExecuteTime": {
     "end_time": "2025-07-07T04:37:13.986205Z",
     "start_time": "2025-07-07T04:37:11.099468Z"
    }
   },
   "outputs": [
    {
     "name": "stderr",
     "output_type": "stream",
     "text": [
      "[2025-07-07 13:37:11] INFO [augmented_image_manager.download] Downloading augmented_images/20250707133705_augmented.tar.gz...\n",
      "[2025-07-07 13:37:13] INFO [augmented_image_manager.download] Extracting to /Users/joyuiyeong/projects/upstageailab-cv-classification-cv_3/data/raw/download_test...\n",
      "[2025-07-07 13:37:13] INFO [augmented_image_manager.download] Successfully extracted to /Users/joyuiyeong/projects/upstageailab-cv-classification-cv_3/data/raw/download_test/20250707133705_augmented\n"
     ]
    }
   ],
   "source": [
    "download_dir = config.RAW_DATA_DIR / \"download_test\"\n",
    "download_result = augmented_image_manager.download(result, target_directory=download_dir)"
   ]
  },
  {
   "cell_type": "code",
   "execution_count": 8,
   "id": "b06053cffe7515ef",
   "metadata": {
    "ExecuteTime": {
     "end_time": "2025-07-07T04:37:13.995801Z",
     "start_time": "2025-07-07T04:37:13.993738Z"
    }
   },
   "outputs": [
    {
     "data": {
      "text/plain": [
       "PosixPath('/Users/joyuiyeong/projects/upstageailab-cv-classification-cv_3/data/raw/download_test/20250707133705_augmented')"
      ]
     },
     "execution_count": 8,
     "metadata": {},
     "output_type": "execute_result"
    }
   ],
   "source": [
    "download_result"
   ]
  },
  {
   "cell_type": "markdown",
   "id": "fb004eda9ad084e2",
   "metadata": {},
   "source": "## 자신만의 directory 에 넣어둘 때"
  },
  {
   "cell_type": "code",
   "execution_count": 9,
   "id": "170faa1a1f55683d",
   "metadata": {
    "ExecuteTime": {
     "end_time": "2025-07-07T04:37:21.415648Z",
     "start_time": "2025-07-07T04:37:14.005314Z"
    }
   },
   "outputs": [
    {
     "name": "stderr",
     "output_type": "stream",
     "text": [
      "[2025-07-07 13:37:14] INFO [augmented_image_manager.upload] Compressing /Users/joyuiyeong/projects/upstageailab-cv-classification-cv_3/data/raw/train...\n",
      "[2025-07-07 13:37:16] INFO [augmented_image_manager.upload] Uploading to augmented_images/yuiyeong/20250707133714_augmented.tar.gz...\n",
      "[2025-07-07 13:37:18] INFO [augmented_image_manager.upload] Successfully uploaded 123,579,109 bytes\n",
      "[2025-07-07 13:37:18] INFO [augmented_image_manager.download] Downloading augmented_images/20250707133705_augmented.tar.gz...\n",
      "[2025-07-07 13:37:20] INFO [augmented_image_manager.download] Extracting to /Users/joyuiyeong/projects/upstageailab-cv-classification-cv_3/data/raw/download_test...\n",
      "[2025-07-07 13:37:21] INFO [augmented_image_manager.download] Successfully extracted to /Users/joyuiyeong/projects/upstageailab-cv-classification-cv_3/data/raw/download_test/20250707133705_augmented\n"
     ]
    }
   ],
   "source": [
    "personal_image_manager = AugmentedImageManager.create(root_directory=config.NCLOUD_STORAGE_PERSONAL_DIR)\n",
    "key = personal_image_manager.upload(config.TRAIN_IMG_DIR)\n",
    "download_result = personal_image_manager.download(result, target_directory=download_dir)"
   ]
  }
 ],
 "metadata": {
  "kernelspec": {
   "display_name": "Python 3",
   "language": "python",
   "name": "python3"
  },
  "language_info": {
   "codemirror_mode": {
    "name": "ipython",
    "version": 2
   },
   "file_extension": ".py",
   "mimetype": "text/x-python",
   "name": "python",
   "nbconvert_exporter": "python",
   "pygments_lexer": "ipython2",
   "version": "2.7.6"
  }
 },
 "nbformat": 4,
 "nbformat_minor": 5
}
